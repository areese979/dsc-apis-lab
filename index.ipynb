{
 "cells": [
  {
   "cell_type": "markdown",
   "metadata": {},
   "source": [
    "# APIs - Cumulative Lab\n",
    "\n",
    "\n",
    "## Introduction \n",
    "\n",
    "We've seen how the Yelp API works and how to create basic visualizations using Folium. It's time to put those skills to work in order to create a working map! Taking things a step further, you'll also independently explore how to perform pagination in order to retrieve a full results set from the Yelp API.\n",
    "\n",
    "## Objectives\n",
    "\n",
    "You will be able to: \n",
    "\n",
    "* Practice using functions to organize your code\n",
    "* Use pagination to retrieve all results from an API query\n",
    "* Practice parsing data returned from an API query\n",
    "* Practice interpreting visualizations of a dataset\n",
    "* Create maps using Folium"
   ]
  },
  {
   "cell_type": "markdown",
   "metadata": {},
   "source": [
    "## Your Task: Query Yelp for All Businesses in a Category and Analyze the Results\n",
    "\n",
    "![restaurant counter with pizza](images/restaurant_counter.jpg)\n",
    "\n",
    "Photo by <a href=\"https://unsplash.com/@jordanmadrid?utm_source=unsplash&utm_medium=referral&utm_content=creditCopyText\">Jordan Madrid</a> on <a href=\"/s/photos/pizza-restaurant?utm_source=unsplash&utm_medium=referral&utm_content=creditCopyText\">Unsplash</a>"
   ]
  },
  {
   "cell_type": "markdown",
   "metadata": {},
   "source": [
    "### Overview\n",
    "\n",
    "You've now worked with some API calls, but we have yet to see how to retrieve a more complete dataset in a programmatic manner. In this lab, you will write a query of businesses on Yelp, then use *pagination* to retrieve all possible results for that query. Then you will create a summary of your findings, including a Folium map of the geographic locations of those businesses.\n",
    "\n",
    "### Technical Details\n",
    "\n",
    "Returning to the Yelp API, the [documentation](https://www.yelp.com/developers/documentation/v3/business_search) also provides us details regarding the **API limits**. These often include details about the number of requests a user is allowed to make within a specified time limit and the maximum number of results to be returned. In this case, we are told that any request has a **maximum of 50 results per request** and defaults to 20. Furthermore, any search will be limited to a **total of 1000 results**. To retrieve all 1000 of these results, we would have to page through the results piece by piece, retrieving 50 at a time. Processes such as these are often referred to as pagination.\n",
    "\n",
    "Also, be mindful of the **API** ***rate*** **limits**. You can only make **5000 requests per day** and are also can make requests too fast. Start prototyping small before running a loop that could be faulty. You can also use `time.sleep(n)` to add delays. For more details see https://www.yelp.com/developers/documentation/v3/rate_limiting.\n",
    "\n",
    "In this lab, you will define a search and then paginate over the results to retrieve all of the results. You'll then parse these responses as a list of dictionaries (for further exploration) and create a map using Folium to visualize the results geographically.\n",
    "\n",
    "### Requirements\n",
    "\n",
    "#### 1. Make the Initial Request\n",
    "\n",
    "Start by filling in your API key to make the initial request to the business search API. Investigate the structure of the response you get back and start figuring out how you will extract the relevant information.\n",
    "\n",
    "#### 2. Add Pagination\n",
    "\n",
    "Using loops and functions, collect the maximum number of results for your query from the API.\n",
    "\n",
    "#### 3. Perform Exploratory Analysis\n",
    "\n",
    "Interpret visualizations related to the price range, average rating, and number of reviews for all query results.\n",
    "\n",
    "#### 4. Create a Folium Map\n",
    "\n",
    "Using latitude and longitude data, plot the query results on an interactive map."
   ]
  },
  {
   "cell_type": "markdown",
   "metadata": {},
   "source": [
    "## 1. Make the Initial Request\n",
    "\n",
    "### Querying\n",
    "\n",
    "Start by making an initial request to the Yelp API. Your search must include at least 2 parameters: **term** and **location**. For example, you might search for pizza restaurants in NYC. The term and location is up to you but make the request below.\n",
    "\n",
    "Use the `requests` library ([documentation here](https://requests.readthedocs.io/en/master/user/quickstart/#make-a-request)).\n",
    "\n",
    "You'll also need an API key from Yelp. If you haven't done this already, go to the Yelp [Manage App page](https://www.yelp.com/developers/v3/manage_app) and create a new app (after making an account if you haven't already)."
   ]
  },
  {
   "cell_type": "code",
   "execution_count": 9,
   "metadata": {},
   "outputs": [
    {
     "data": {
      "text/plain": [
       "<Response [200]>"
      ]
     },
     "execution_count": 9,
     "metadata": {},
     "output_type": "execute_result"
    }
   ],
   "source": [
    "# Replace None with appropriate code\n",
    "\n",
    "# Import the requests library\n",
    "import requests\n",
    "\n",
    "# Get this from the \"Manage App\" page. Make sure you set them\n",
    "# back to None before pushing this to GitHub, since otherwise\n",
    "# your credentials will be compromised\n",
    "api_key = None\n",
    "\n",
    "# These can be whatever you want! But the solution uses \"pizza\"\n",
    "# and \"New York NY\" if you want to compare your work directly\n",
    "term = 'chinese'\n",
    "location = 'Des Moines IA'\n",
    "\n",
    "# Set up params for request\n",
    "url = \"https://api.yelp.com/v3/businesses/search\"\n",
    "headers = {\n",
    "    \"Authorization\": \"Bearer {}\".format(api_key)\n",
    "}\n",
    "url_params = {\n",
    "    \"term\": term.replace(\" \", \"+\"),\n",
    "    \"location\": location.replace(\" \", \"+\")\n",
    "}\n",
    "\n",
    "# Make the request using requests.get, passing in\n",
    "# url, headers=headers, and params=url_params\n",
    "response = requests.get(url, headers=headers, params=url_params)\n",
    "\n",
    "# Confirm we got a 200 response\n",
    "response"
   ]
  },
  {
   "cell_type": "code",
   "execution_count": 10,
   "metadata": {},
   "outputs": [
    {
     "data": {
      "text/plain": [
       "dict_keys(['businesses', 'total', 'region'])"
      ]
     },
     "execution_count": 10,
     "metadata": {},
     "output_type": "execute_result"
    }
   ],
   "source": [
    "# Run this cell without changes\n",
    "\n",
    "# Get the response body in JSON format\n",
    "response_json = response.json()\n",
    "# View the keys\n",
    "response_json.keys()"
   ]
  },
  {
   "cell_type": "markdown",
   "metadata": {},
   "source": [
    "### Extracting Data\n",
    "\n",
    "Now, retrieve the value associated with the `'businesses'` key, and inspect its contents."
   ]
  },
  {
   "cell_type": "code",
   "execution_count": 11,
   "metadata": {},
   "outputs": [
    {
     "data": {
      "text/plain": [
       "[{'id': 'orBzw4IPpAZfdNWlunqUMg',\n",
       "  'alias': 'heavenly-asian-cuisine-and-lounge-west-des-moines',\n",
       "  'name': 'Heavenly Asian Cuisine & Lounge',\n",
       "  'image_url': 'https://s3-media4.fl.yelpcdn.com/bphoto/6yfkznoFVyFTitX1ZliwrQ/o.jpg',\n",
       "  'is_closed': False,\n",
       "  'url': 'https://www.yelp.com/biz/heavenly-asian-cuisine-and-lounge-west-des-moines?adjust_creative=gpGxZkvaH94sD-sXU1gL1A&utm_campaign=yelp_api_v3&utm_medium=api_v3_business_search&utm_source=gpGxZkvaH94sD-sXU1gL1A',\n",
       "  'review_count': 105,\n",
       "  'categories': [{'alias': 'szechuan', 'title': 'Szechuan'},\n",
       "   {'alias': 'lounges', 'title': 'Lounges'},\n",
       "   {'alias': 'dimsum', 'title': 'Dim Sum'}],\n",
       "  'rating': 4.0,\n",
       "  'coordinates': {'latitude': 41.571979, 'longitude': -93.7086572},\n",
       "  'transactions': ['pickup', 'delivery'],\n",
       "  'price': '$$',\n",
       "  'location': {'address1': '225 5th St',\n",
       "   'address2': '',\n",
       "   'address3': None,\n",
       "   'city': 'West Des Moines',\n",
       "   'zip_code': '50265',\n",
       "   'country': 'US',\n",
       "   'state': 'IA',\n",
       "   'display_address': ['225 5th St', 'West Des Moines, IA 50265']},\n",
       "  'phone': '+15152749156',\n",
       "  'display_phone': '(515) 274-9156',\n",
       "  'distance': 6491.7123916404125},\n",
       " {'id': 'pgl7fSM3q8642sGkdSiY4w',\n",
       "  'alias': 'rolling-wok-des-moines',\n",
       "  'name': 'Rolling Wok',\n",
       "  'image_url': 'https://s3-media2.fl.yelpcdn.com/bphoto/Bl4RKr-cl_-0GmlIyx9wgA/o.jpg',\n",
       "  'is_closed': False,\n",
       "  'url': 'https://www.yelp.com/biz/rolling-wok-des-moines?adjust_creative=gpGxZkvaH94sD-sXU1gL1A&utm_campaign=yelp_api_v3&utm_medium=api_v3_business_search&utm_source=gpGxZkvaH94sD-sXU1gL1A',\n",
       "  'review_count': 97,\n",
       "  'categories': [{'alias': 'chinese', 'title': 'Chinese'},\n",
       "   {'alias': 'vietnamese', 'title': 'Vietnamese'},\n",
       "   {'alias': 'thai', 'title': 'Thai'}],\n",
       "  'rating': 4.5,\n",
       "  'coordinates': {'latitude': 41.594577, 'longitude': -93.59378},\n",
       "  'transactions': ['delivery'],\n",
       "  'price': '$',\n",
       "  'location': {'address1': '1534 E Grand Ave',\n",
       "   'address2': '',\n",
       "   'address3': '',\n",
       "   'city': 'Des Moines',\n",
       "   'zip_code': '50309',\n",
       "   'country': 'US',\n",
       "   'state': 'IA',\n",
       "   'display_address': ['1534 E Grand Ave', 'Des Moines, IA 50309']},\n",
       "  'phone': '+15152663787',\n",
       "  'display_phone': '(515) 266-3787',\n",
       "  'distance': 3451.929770840265}]"
      ]
     },
     "execution_count": 11,
     "metadata": {},
     "output_type": "execute_result"
    }
   ],
   "source": [
    "# Replace None with appropriate code\n",
    "\n",
    "# Retrieve the value from response_json\n",
    "businesses = response_json['businesses']\n",
    "\n",
    "# View the first 2 records\n",
    "businesses[:2]"
   ]
  },
  {
   "cell_type": "markdown",
   "metadata": {},
   "source": [
    "### Preparing Data\n",
    "\n",
    "Write a function `prepare_data` that takes in a list of dictionaries like `businesses` and returns a copy that has been prepared for analysis:\n",
    "\n",
    "1. The `coordinates` key-value pair has been converted into two separate key-value pairs, `latitude` and `longitude`\n",
    "2. All other key-value pairs except for `name`, `review_count`, `rating`, and `price` have been dropped\n",
    "3. All dictionaries missing one of the relevant keys or containing null values have been dropped\n",
    "\n",
    "In other words, the final keys for each dictionary should be `name`, `review_count`, `rating`, `price`, `latitude`, and `longitude`.\n",
    "\n",
    "Complete the function in the cell below:"
   ]
  },
  {
   "cell_type": "code",
   "execution_count": 12,
   "metadata": {},
   "outputs": [
    {
     "data": {
      "text/plain": [
       "[{'name': 'Heavenly Asian Cuisine & Lounge',\n",
       "  'review_count': 105,\n",
       "  'rating': 4.0,\n",
       "  'price': '$$',\n",
       "  'latitude': 41.571979,\n",
       "  'longitude': -93.7086572},\n",
       " {'name': 'Rolling Wok',\n",
       "  'review_count': 97,\n",
       "  'rating': 4.5,\n",
       "  'price': '$',\n",
       "  'latitude': 41.594577,\n",
       "  'longitude': -93.59378},\n",
       " {'name': \"Le's Chinese Bar-B-Que\",\n",
       "  'review_count': 74,\n",
       "  'rating': 4.5,\n",
       "  'price': '$',\n",
       "  'latitude': 41.6079597,\n",
       "  'longitude': -93.620018},\n",
       " {'name': \"Sam's Fine Food Egg Rolls\",\n",
       "  'review_count': 107,\n",
       "  'rating': 4.5,\n",
       "  'price': '$',\n",
       "  'latitude': 41.5541789,\n",
       "  'longitude': -93.6258949},\n",
       " {'name': 'Tsing Tsao Chinese Fast Food',\n",
       "  'review_count': 45,\n",
       "  'rating': 4.0,\n",
       "  'price': '$',\n",
       "  'latitude': 41.6002651,\n",
       "  'longitude': -93.5756587}]"
      ]
     },
     "execution_count": 12,
     "metadata": {},
     "output_type": "execute_result"
    }
   ],
   "source": [
    "# Replace None with appropriate code\n",
    "\n",
    "def prepare_data(data_list):\n",
    "    \"\"\"\n",
    "    This function takes in a list of dictionaries and prepares it\n",
    "    for analysis\n",
    "    \"\"\"\n",
    "    \n",
    "    # Make a new list to hold results\n",
    "    results = []\n",
    "    \n",
    "    for business_data in data_list:\n",
    "    \n",
    "        # Make a new dictionary to hold prepared data for this business\n",
    "        prepared_data = {}\n",
    "        \n",
    "        # Extract name, review_count, rating, and price key-value pairs\n",
    "        # from business_data and add to prepared_data\n",
    "        # If a key is not present in business_data, add it to prepared_data\n",
    "        # with an associated value of None\n",
    "        for key in ('name', 'review_count', 'rating', 'price'):\n",
    "            prepared_data[key] = business_data.get(key, None)\n",
    "    \n",
    "        # Parse and add latitude and longitude columns\n",
    "        coordinates = business_data['coordinates']\n",
    "        prepared_data['latitude'] = coordinates['latitude']\n",
    "        prepared_data['longitude'] = coordinates['longitude']\n",
    "        \n",
    "        # Add to list if all values are present\n",
    "        if all(prepared_data.values()):\n",
    "            results.append(prepared_data)\n",
    "    \n",
    "    return results\n",
    "    \n",
    "# Test out function\n",
    "prepared_businesses = prepare_data(businesses)\n",
    "prepared_businesses[:5]"
   ]
  },
  {
   "cell_type": "markdown",
   "metadata": {},
   "source": [
    "Check that your function created the correct keys:"
   ]
  },
  {
   "cell_type": "code",
   "execution_count": 13,
   "metadata": {},
   "outputs": [],
   "source": [
    "# Run this cell without changes\n",
    "\n",
    "assert sorted(list(prepared_businesses[0].keys())) == ['latitude', 'longitude', 'name', 'price', 'rating', 'review_count']"
   ]
  },
  {
   "cell_type": "markdown",
   "metadata": {},
   "source": [
    "The following code will differ depending on your query, but we expect there to be 20 businesses in the original list, and potentially fewer in the prepared list (if any of them were missing data):"
   ]
  },
  {
   "cell_type": "code",
   "execution_count": 14,
   "metadata": {},
   "outputs": [
    {
     "name": "stdout",
     "output_type": "stream",
     "text": [
      "Original: 20\n",
      "Prepared: 19\n"
     ]
    }
   ],
   "source": [
    "# Run this cell without changes\n",
    "print(\"Original:\", len(businesses))\n",
    "print(\"Prepared:\", len(prepared_businesses))"
   ]
  },
  {
   "cell_type": "markdown",
   "metadata": {},
   "source": [
    "Great! We will reuse this function once we have retrieved the full dataset."
   ]
  },
  {
   "cell_type": "markdown",
   "metadata": {},
   "source": [
    "## 2. Add Pagination\n",
    "\n",
    "Now that you are able to extract information from one page of the response, let's figure out how to request as many pages as possible.\n",
    "\n",
    "### Determining the Total\n",
    "\n",
    "Depending on the number of total results for your query, you will either retrieve all of the results, or just the first 1000 (if there are more than 1000 total).\n",
    "\n",
    "We can find the total number of results using the `\"total\"` key:"
   ]
  },
  {
   "cell_type": "code",
   "execution_count": 15,
   "metadata": {},
   "outputs": [
    {
     "data": {
      "text/plain": [
       "74"
      ]
     },
     "execution_count": 15,
     "metadata": {},
     "output_type": "execute_result"
    }
   ],
   "source": [
    "# Run this cell without changes\n",
    "response_json[\"total\"]"
   ]
  },
  {
   "cell_type": "markdown",
   "metadata": {},
   "source": [
    "(This is specific to the implementation of the Yelp API. Some APIs will just tell you that there are more pages, or will tell you the number of pages total, rather than the total number of results. If you're not sure, always check the documentation.)\n",
    "\n",
    "In the cell below, assign the variable `total` to either the value shown above (if it is less than 1000), or 1000."
   ]
  },
  {
   "cell_type": "code",
   "execution_count": 16,
   "metadata": {},
   "outputs": [],
   "source": [
    "# Replace None with appropriate code\n",
    "total = 74"
   ]
  },
  {
   "cell_type": "markdown",
   "metadata": {},
   "source": [
    "### Calculating the Offsets\n",
    "\n",
    "The documentation states in the parameters section:\n",
    "\n",
    "> **Name**: `limit`, **Type:** int, **Description:** Optional. Number of business results to return. By default, it will return 20. Maximum is 50.\n",
    "\n",
    "> **Name**: `offset`, **Type:** int, **Description:** Optional. Offset the list of returned business results by this amount.\n",
    "\n",
    "So, to get the most results with the fewest API calls we want to set a limit of 50 every time. If, say, we wanted to get 210 total results, that would mean:\n",
    "\n",
    "1. Offset of `0` (first 50 records)\n",
    "2. Offset of `50` (second 50 records)\n",
    "3. Offset of `100` (third 50 records)\n",
    "4. Offset of `150` (fourth 50 records)\n",
    "5. Offset of `200` (final 10 records)\n",
    "\n",
    "In the cell below, create a function `get_offsets` that takes in a total and returns a list of offsets for that total. You can assume that there is a limit of 50 every time.\n",
    "\n",
    "*Hint: you can use `range` ([documentation here](https://docs.python.org/3.3/library/stdtypes.html?highlight=range#range)) to do this in one line of code. Just make the returned result is a list.*"
   ]
  },
  {
   "cell_type": "code",
   "execution_count": 17,
   "metadata": {},
   "outputs": [],
   "source": [
    "# Replace None with appropriate code\n",
    "def get_offsets(total):\n",
    "    \"\"\"\n",
    "    Get a list of offsets needed to get all pages\n",
    "    of data up until the total\n",
    "    \"\"\"\n",
    "    return list(range(0, total, 50))"
   ]
  },
  {
   "cell_type": "markdown",
   "metadata": {},
   "source": [
    "Check that your function works below:"
   ]
  },
  {
   "cell_type": "code",
   "execution_count": 18,
   "metadata": {},
   "outputs": [],
   "source": [
    "# Run this cell without changes\n",
    "\n",
    "assert get_offsets(200) == [0, 50, 100, 150]\n",
    "assert get_offsets(210) == [0, 50, 100, 150, 200]"
   ]
  },
  {
   "cell_type": "markdown",
   "metadata": {},
   "source": [
    "### Putting It All Together\n",
    "\n",
    "Recall that the following variable has already been declared for you:"
   ]
  },
  {
   "cell_type": "code",
   "execution_count": 19,
   "metadata": {},
   "outputs": [
    {
     "data": {
      "text/plain": [
       "{'term': 'chinese', 'location': 'Des+Moines+IA'}"
      ]
     },
     "execution_count": 19,
     "metadata": {},
     "output_type": "execute_result"
    }
   ],
   "source": [
    "# Run this cell without changes\n",
    "url_params"
   ]
  },
  {
   "cell_type": "markdown",
   "metadata": {},
   "source": [
    "We'll go ahead and also specify that the limit should be 50 every time:"
   ]
  },
  {
   "cell_type": "code",
   "execution_count": 20,
   "metadata": {},
   "outputs": [],
   "source": [
    "# Run this cell without changes\n",
    "url_params[\"limit\"] = 50"
   ]
  },
  {
   "cell_type": "markdown",
   "metadata": {},
   "source": [
    "In order to modify the offset, you'll need to add it to `url_params` with the key `\"offset\"` and whatever value is needed.\n",
    "\n",
    "In the cell below, write code that:\n",
    "\n",
    "* Creates an empty list for the full prepared dataset\n",
    "* Loops over all of the offsets from `get_offsets` and makes an API call each time with the specified offset\n",
    "* Calls `prepare_data` to get a cleaned version of the result of each API call\n",
    "* Extends the full prepared dataset list with each query's prepared dataset"
   ]
  },
  {
   "cell_type": "code",
   "execution_count": 21,
   "metadata": {},
   "outputs": [
    {
     "data": {
      "text/plain": [
       "60"
      ]
     },
     "execution_count": 21,
     "metadata": {},
     "output_type": "execute_result"
    }
   ],
   "source": [
    "# Replace None with appropriate code\n",
    "\n",
    "# Create an empty list for the full prepared dataset\n",
    "full_dataset = []\n",
    "\n",
    "for offset in get_offsets(total):\n",
    "    # Add or update the \"offset\" key-value pair in url_params\n",
    "    url_params['offset'] = offset\n",
    "    \n",
    "    # Make the query and get the response\n",
    "    response = requests.get(url, headers=headers, params=url_params)\n",
    "    \n",
    "    # Get the response body in JSON format\n",
    "    response_json = response.json()\n",
    "    \n",
    "    # Get the list of businesses from the response_json\n",
    "    businesses = response_json['businesses']\n",
    "    \n",
    "    # Call the prepare_data function to get a list of processed data\n",
    "    prepared_businesses = prepare_data(businesses)\n",
    "    \n",
    "    # Extend full_dataset with this list (don't append, or you'll get\n",
    "    # a list of lists instead of a flat list)\n",
    "    full_dataset.extend(prepared_businesses)\n",
    "\n",
    "# Check the length of the full dataset. It will be up to `total`,\n",
    "# potentially less if there were missing values\n",
    "len(full_dataset)"
   ]
  },
  {
   "cell_type": "markdown",
   "metadata": {},
   "source": [
    "This code may take up to a few minutes to run.\n",
    "\n",
    "If you get an error trying to get the response body in JSON format, try adding `time.sleep(1)` right after the `requests.get` line, so your code will sleep for 1 second between each API call."
   ]
  },
  {
   "cell_type": "markdown",
   "metadata": {},
   "source": [
    "## 3. Perform Exploratory Analysis\n",
    "\n",
    "Take the businesses from the previous question and do an initial exploratory analysis. We have provided some plots for you to interpret:"
   ]
  },
  {
   "cell_type": "code",
   "execution_count": 22,
   "metadata": {},
   "outputs": [
    {
     "data": {
      "image/png": "[encoded data removed]",
      "text/plain": [
       "<Figure size 1152x360 with 3 Axes>"
      ]
     },
     "metadata": {
      "needs_background": "light"
     },
     "output_type": "display_data"
    }
   ],
   "source": [
    "# Run this cell without changes\n",
    "from collections import Counter\n",
    "import matplotlib.pyplot as plt\n",
    "%matplotlib inline\n",
    "\n",
    "fig, (ax1, ax2, ax3) = plt.subplots(ncols=3, figsize=(16, 5))\n",
    "\n",
    "# Plot distribution of number of reviews\n",
    "all_review_counts = [x[\"review_count\"] for x in full_dataset]\n",
    "ax1.hist(all_review_counts)\n",
    "ax1.set_title(\"Review Count Distribution\")\n",
    "ax1.set_xlabel(\"Number of Reviews\")\n",
    "ax1.set_ylabel(\"Number of Businesses\")\n",
    "\n",
    "# Plot rating distribution\n",
    "all_ratings = [x[\"rating\"] for x in full_dataset]\n",
    "rating_counter = Counter(all_ratings)\n",
    "rating_keys = sorted(rating_counter.keys())\n",
    "ax2.bar(rating_keys, [rating_counter[key] for key in rating_keys])\n",
    "ax2.set_title(\"Rating Distribution\")\n",
    "ax2.set_xlabel(\"Rating\")\n",
    "ax2.set_ylabel(\"Number of Businesses\")\n",
    "\n",
    "# Plot price distribution\n",
    "all_prices = [x[\"price\"].replace(\"$\", r\"\\$\") for x in full_dataset]\n",
    "price_counter = Counter(all_prices)\n",
    "price_keys = sorted(price_counter.keys())\n",
    "ax3.bar(price_keys, [price_counter[key] for key in price_keys])\n",
    "ax3.set_title(\"Price Distribution\")\n",
    "ax3.set_xlabel(\"Price Category\")\n",
    "ax3.set_ylabel(\"Number of Businesses\");"
   ]
  },
  {
   "cell_type": "markdown",
   "metadata": {},
   "source": [
    "Describe the distributions displayed above and interpret them in the context of your query. (Your answer may differ from the solution branch depending on your query.)"
   ]
  },
  {
   "cell_type": "code",
   "execution_count": null,
   "metadata": {},
   "outputs": [],
   "source": [
    "# Replace None with appropriate text\n",
    "\"\"\"\n",
    "The review count distribution is very right skewed with majority of businesses under 200 reviews. The rating distribution is roughly left skewed most reviews lying between 3.5-4.5. The price distribution is exactly the same.\n",
    "This makes sense seeing as Des Moines is pretty small and there isn't a lot of options also it is a cheaper city so people wouldn't be as willingly to pray high prices.\n",
    "\"\"\""
   ]
  },
  {
   "cell_type": "markdown",
   "metadata": {},
   "source": [
    "In the cell below, we also plot the rating distributions by price. In this setup, a price of one dollar sign is \"lower price\" and everything else is \"higher price\"."
   ]
  },
  {
   "cell_type": "code",
   "execution_count": 23,
   "metadata": {},
   "outputs": [
    {
     "data": {
      "image/png": "[encoded data removed]",
      "text/plain": [
       "<Figure size 432x288 with 1 Axes>"
      ]
     },
     "metadata": {
      "needs_background": "light"
     },
     "output_type": "display_data"
    }
   ],
   "source": [
    "# Run this cell without changes\n",
    "\n",
    "higher_price = []\n",
    "lower_price = []\n",
    "for row in full_dataset:\n",
    "    if row[\"price\"] == \"$\":\n",
    "        lower_price.append(row[\"rating\"])\n",
    "    else:\n",
    "        higher_price.append(row[\"rating\"])\n",
    "        \n",
    "fig, ax = plt.subplots()\n",
    "\n",
    "ax.hist([higher_price, lower_price], label=[\"higher price\", \"lower price\"], density=True)\n",
    "\n",
    "ax.legend();"
   ]
  },
  {
   "cell_type": "markdown",
   "metadata": {},
   "source": [
    "Is a higher price associated with a higher rating? (No need for any additional math/statistics, just interpret what you see in the plot.)"
   ]
  },
  {
   "cell_type": "code",
   "execution_count": null,
   "metadata": {},
   "outputs": [],
   "source": [
    "# Replace None with appropriate text\n",
    "\"\"\"\n",
    "Higher price is not technically associated with higher rating.\n",
    "This does seems to be the case for the 4.0 rating and is dead tied with the 4.5\n",
    "\"\"\""
   ]
  },
  {
   "cell_type": "markdown",
   "metadata": {},
   "source": [
    "Finally, let's look at ratings vs. review counts:"
   ]
  },
  {
   "cell_type": "code",
   "execution_count": 24,
   "metadata": {},
   "outputs": [
    {
     "data": {
      "image/png": "[encoded data removed]",
      "text/plain": [
       "<Figure size 1152x360 with 1 Axes>"
      ]
     },
     "metadata": {
      "needs_background": "light"
     },
     "output_type": "display_data"
    }
   ],
   "source": [
    "# Run this cell without changes\n",
    "fig, ax = plt.subplots(figsize=(16,5))\n",
    "\n",
    "ax.scatter(all_review_counts, all_ratings, alpha=0.2)\n",
    "ax.set_xlabel(\"Number of Reviews\")\n",
    "ax.set_ylabel(\"Rating\")\n",
    "# \"zoom in\" to a subset of review counts\n",
    "ax.set_xlim(left=0, right=1000);"
   ]
  },
  {
   "cell_type": "markdown",
   "metadata": {},
   "source": [
    "Is a higher number of reviews associated with a higher rating?"
   ]
  },
  {
   "cell_type": "code",
   "execution_count": null,
   "metadata": {},
   "outputs": [],
   "source": [
    "# Replace None with appropriate text\n",
    "\"\"\"\n",
    "This data isn't very helpful seeing as there isn't many reviews in general.\n",
    "It does seem to be that the most reviews are with ratings of 3.5 or 4.0\n",
    "\"\"\""
   ]
  },
  {
   "cell_type": "markdown",
   "metadata": {},
   "source": [
    "## 4. Create a Folium Map\n",
    "\n",
    "Make a map using Folium of the businesses you retrieved. Be sure to also add popups to the markers giving some basic information such as name, rating and price.\n",
    "\n",
    "You can center the map around the latitude and longitude of the first item in `full_dataset`."
   ]
  },
  {
   "cell_type": "code",
   "execution_count": 28,
   "metadata": {},
   "outputs": [
    {
     "data": {
      "text/html": [
       "<div style=\"width:100%;\"><div style=\"position:relative;width:100%;height:0;padding-bottom:60%;\"><span style=\"color:#565656\">Make this Notebook Trusted to load map: File -> Trust Notebook</span><iframe src=\"about:blank\" style=\"position:absolute;width:100%;height:100%;left:0;top:0;border:none !important;\" data-html=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 onload=\"this.contentDocument.open();this.contentDocument.write(atob(this.getAttribute('data-html')));this.contentDocument.close();\" allowfullscreen webkitallowfullscreen mozallowfullscreen></iframe></div></div>"
      ],
      "text/plain": [
       "<folium.folium.Map at 0x7f8fc2220250>"
      ]
     },
     "execution_count": 28,
     "metadata": {},
     "output_type": "execute_result"
    }
   ],
   "source": [
    "# Replace None with appropriate code\n",
    "\n",
    "# Import the library\n",
    "import folium\n",
    "\n",
    "# Set up center latitude and longitude\n",
    "center_lat = full_dataset[0]['latitude']\n",
    "center_long = full_dataset[0]['longitude']\n",
    "\n",
    "# Initialize map with center lat and long\n",
    "yelp_map = folium.Map([center_lat, center_long], zoom_start=12)\n",
    "\n",
    "# Adjust this limit to see more or fewer businesses\n",
    "limit=100\n",
    "\n",
    "for business in full_dataset[:limit]:\n",
    "    # Extract information about business\n",
    "    lat = business['latitude']\n",
    "    long = business['longitude']\n",
    "    name = business['name']\n",
    "    rating = business['rating']\n",
    "    price = business['price']\n",
    "    details = \"{}\\nPrice: {} Rating:{}\".format(name,price,rating)\n",
    "    \n",
    "    # Create popup with relevant details\n",
    "    popup = folium.Popup(details)\n",
    "    \n",
    "    # Create marker with relevant lat/long and popup\n",
    "    marker = folium.Marker([lat, long], popup=popup)\n",
    "    \n",
    "    marker.add_to(yelp_map)\n",
    "    \n",
    "yelp_map"
   ]
  },
  {
   "cell_type": "markdown",
   "metadata": {},
   "source": [
    "## Summary\n",
    "\n",
    "Nice work! In this lab, you've made multiple API calls to Yelp in order to paginate through a results set, performing some basic exploratory analysis and then creating a nice interactive map to display the results using Folium! Well done!"
   ]
  }
 ],
 "metadata": {
  "kernelspec": {
   "display_name": "Python 3",
   "language": "python",
   "name": "python3"
  },
  "language_info": {
   "codemirror_mode": {
    "name": "ipython",
    "version": 3
   },
   "file_extension": ".py",
   "mimetype": "text/x-python",
   "name": "python",
   "nbconvert_exporter": "python",
   "pygments_lexer": "ipython3",
   "version": "3.8.5"
  },
  "toc": {
   "base_numbering": 1,
   "nav_menu": {},
   "number_sections": true,
   "sideBar": true,
   "skip_h1_title": false,
   "title_cell": "Table of Contents",
   "title_sidebar": "Contents",
   "toc_cell": false,
   "toc_position": {},
   "toc_section_display": true,
   "toc_window_display": false
  }
 },
 "nbformat": 4,
 "nbformat_minor": 2
}
